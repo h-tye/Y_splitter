{
 "cells": [
  {
   "cell_type": "code",
   "execution_count": null,
   "metadata": {},
   "outputs": [],
   "source": [
    "import scipy\n",
    "from pathlib import Path\n",
    "from typing import Sequence\n",
    "\n",
    "import numpy as np\n",
    "from matplotlib import pyplot as plt\n",
    "\n",
    "from src.plot_scripts.common import get_parameters\n",
    "from out.plots import get_plots_path\n",
    "from out.results import get_results_path\n",
    "from out.cache import get_cache_path, set_cache_path\n",
    "from out.mat import get_mat_path"
   ]
  },
  {
   "cell_type": "code",
   "execution_count": null,
   "metadata": {},
   "outputs": [],
   "source": [
    "basepath = get_results_path()\n",
    "# slurm_id = 2041250\n",
    "# basepath = Path(rf\"/scratch/slurm-{slurm_id}\")\n",
    "# set_cache_path(Path(rf\"/scratch/slurm-{slurm_id}/cache\"))"
   ]
  },
  {
   "cell_type": "code",
   "execution_count": null,
   "metadata": {},
   "outputs": [],
   "source": [
    "location = basepath / \"simulation_4_311b96fd_10110.sqlite\"\n",
    "location = Path(location)\n",
    "is_reciprocal = location.stem.split(\"_\")[3][1] != \"0\"\n",
    "print(f\"is_reciprocal: {is_reciprocal}\")"
   ]
  },
  {
   "cell_type": "code",
   "execution_count": null,
   "metadata": {},
   "outputs": [],
   "source": [
    "parameters = {\n",
    "    \"coupling\": \"properties|::Root Element::R_1|coupling\",\n",
    "    \"phase\": \"properties|::Root Element::R_1|phase\",\n",
    "    \"t_1\": \"results|::Root Element::OSA_R_1_rt|mode 1/signal|values\",\n",
    "    \"t_2\": f\"results|::Root Element::OSA_R_1_{'lb' if is_reciprocal else 'rb'}|mode 1/signal|values\",\n",
    "    \"f_1\": \"results|::Root Element::OSA_R_1_rt|mode 1/signal|Frequency\",\n",
    "    \"f_2\": f\"results|::Root Element::OSA_R_1_{'lb' if is_reciprocal else 'rb'}|mode 1/signal|Frequency\",\n",
    "}"
   ]
  },
  {
   "cell_type": "code",
   "execution_count": null,
   "metadata": {},
   "outputs": [],
   "source": [
    "parameters = get_parameters(location, parameters, False)"
   ]
  },
  {
   "cell_type": "code",
   "execution_count": null,
   "metadata": {},
   "outputs": [],
   "source": [
    "phi_shift = (np.pi / 2) if is_reciprocal else (np.pi / 4)\n",
    "phi_limits = (0, np.pi) if is_reciprocal else (-np.pi / 2, np.pi / 2)\n",
    "\n",
    "all_phases = np.unique(parameters[\"phase\"])\n",
    "using_phi_shift = all_phases[np.argmin(np.abs(all_phases - phi_shift))]\n",
    "print(f\"Phase range: [{np.min(all_phases)}, {np.max(all_phases)}]\")\n",
    "print(f\"Using phase shift: {using_phi_shift}\")\n",
    "\n",
    "coupling = 0.1\n",
    "all_coupling = np.unique(parameters[\"coupling\"])\n",
    "using_coupling = all_coupling[np.argmin(np.abs(all_coupling - coupling))]\n",
    "coupling_phi_index = np.where((parameters[\"coupling\"] == using_coupling) & (parameters[\"phase\"] == using_phi_shift))[0][0]\n",
    "print(f\"Coupling range: [{np.min(all_coupling)}, {np.max(all_coupling)}]\")\n",
    "print(f\"Using coupling: {using_coupling}\")\n",
    "print(f\"Using coupling_phi_index: {coupling_phi_index}\")"
   ]
  },
  {
   "cell_type": "code",
   "execution_count": null,
   "metadata": {},
   "outputs": [],
   "source": [
    "fig, ax = plt.subplots(1, 1)\n",
    "ax.plot(parameters[\"f_1\"][coupling_phi_index], parameters[\"t_1\"][coupling_phi_index], label=\"Signal 1\")\n",
    "ax.plot(parameters[\"f_2\"][coupling_phi_index], parameters[\"t_2\"][coupling_phi_index], label=\"Signal 2\")\n",
    "ax.set_xlabel(\"Frequency (THz)\")\n",
    "ax.set_ylabel(\"Signal (dBm)\")\n",
    "ax.set_title(\n",
    "    f\"Simulation 2: {location.stem}\\n\"\n",
    "    f\"{parameters['coupling'][coupling_phi_index]:.3f} coupling, \"\n",
    "    f\"{parameters['phase'][coupling_phi_index]:.3f} phase\"\n",
    ")\n",
    "ax.legend()\n",
    "plt.tight_layout()\n",
    "plt.savefig(get_plots_path() / f\"{location.stem}_frequency_{int(coupling * 10)}_{int(using_phi_shift * 10 / np.pi)}.png\", dpi=600)\n",
    "plt.show()\n",
    "plt.close(fig)"
   ]
  },
  {
   "cell_type": "code",
   "execution_count": null,
   "metadata": {},
   "outputs": [],
   "source": [
    "frequency = 3e8 / 1550e-9\n",
    "signal_1_on_index = np.array(parameters[\"t_1\"][coupling_phi_index])\n",
    "freq_on_index = np.array(parameters[\"f_1\"][coupling_phi_index])\n",
    "peaks = np.where(signal_1_on_index < (np.min(signal_1_on_index) * 0.9))[0]\n",
    "freq_of_peaks = freq_on_index[peaks]\n",
    "using_freq = freq_of_peaks[np.argmin(np.abs(freq_of_peaks - frequency))]\n",
    "freq_index = peaks[np.argmin(np.abs(freq_of_peaks - frequency))]\n",
    "\n",
    "print(f\"Using frequency (probe at): {3e8 * 1e9 / using_freq:.3f} nm or {using_freq * 1e-12:.3f} THz\")\n",
    "print(f\"Using index: {freq_index}\")"
   ]
  },
  {
   "cell_type": "code",
   "execution_count": null,
   "metadata": {},
   "outputs": [],
   "source": [
    "freq_1545 = np.argmin(np.abs(freq_on_index - 3e8 / 1545e-9))\n",
    "freq_1555 = np.argmin(np.abs(freq_on_index - 3e8 / 1555e-9))\n",
    "new_freq = freq_on_index[freq_1555:freq_1545]"
   ]
  },
  {
   "cell_type": "code",
   "execution_count": null,
   "metadata": {},
   "outputs": [],
   "source": [
    "fig, ax = plt.subplots(1, 1)\n",
    "ax.plot(parameters[\"f_1\"][coupling_phi_index][freq_1555:freq_1545], parameters[\"t_1\"][coupling_phi_index][freq_1555:freq_1545], label=\"Signal 1\")\n",
    "ax.plot(parameters[\"f_2\"][coupling_phi_index][freq_1555:freq_1545], parameters[\"t_2\"][coupling_phi_index][freq_1555:freq_1545], label=\"Signal 2\")\n",
    "ax.set_xlabel(\"Frequency (THz)\")\n",
    "ax.set_ylabel(\"Signal (dBm)\")\n",
    "ax.set_title(f\"Simulation 2: {location.stem}\\n{parameters['coupling'][coupling_phi_index]:.3f} coupling, {parameters['phase'][coupling_phi_index]:.3f} phase\")\n",
    "ax.legend()\n",
    "plt.tight_layout()\n",
    "plt.show()\n",
    "plt.close(fig)"
   ]
  },
  {
   "cell_type": "code",
   "execution_count": null,
   "metadata": {},
   "outputs": [],
   "source": [
    "if isinstance(parameters[\"t_1\"], np.ndarray):\n",
    "    parameters[\"t_1\"] = parameters[\"t_1\"].tolist()\n",
    "if isinstance(parameters[\"t_2\"], np.ndarray):\n",
    "    parameters[\"t_2\"] = parameters[\"t_2\"].tolist()"
   ]
  },
  {
   "cell_type": "code",
   "execution_count": null,
   "metadata": {},
   "outputs": [],
   "source": [
    "new_parameters = {\n",
    "    \"coupling\": all_coupling,\n",
    "    \"phase\": all_phases,\n",
    "    \"signal_1\": np.zeros((len(all_coupling), len(all_phases), len(new_freq))),\n",
    "    \"signal_2\": np.zeros((len(all_coupling), len(all_phases), len(new_freq))),\n",
    "    \"frequencies\": new_freq,\n",
    "}\n",
    "\n",
    "for i in range(len(parameters[\"t_1\"])):\n",
    "    if isinstance(parameters[\"t_1\"][i], Sequence):\n",
    "        sig_1 = parameters[\"t_1\"][i][freq_1555:freq_1545]\n",
    "    else:\n",
    "        sig_1 = [parameters[\"t_1\"][i]] * len(new_freq)\n",
    "    if isinstance(parameters[\"t_2\"][i], Sequence):\n",
    "        sig_2 = parameters[\"t_2\"][i][freq_1555:freq_1545]\n",
    "    else:\n",
    "        sig_2 = [parameters[\"t_2\"][i]] * len(new_freq)\n",
    "    \n",
    "    this_coupling = parameters[\"coupling\"][i]\n",
    "    this_phase = parameters[\"phase\"][i]\n",
    "    coupling_index = np.where(all_coupling == this_coupling)[0][0]\n",
    "    phase_index = np.where(all_phases == this_phase)[0][0]\n",
    "    new_parameters[\"signal_1\"][coupling_index, phase_index] = sig_1\n",
    "    new_parameters[\"signal_2\"][coupling_index, phase_index] = sig_2\n",
    "\n",
    "new_parameters[\"signal_1\"] = np.array(new_parameters[\"signal_1\"])\n",
    "new_parameters[\"signal_2\"] = np.array(new_parameters[\"signal_2\"])\n",
    "name = \"simulation_\" + location.name.split(\"_\")[1] + \"_\" + (\"reciprocal\" if is_reciprocal else \"non_reciprocal\") + \".mat\"\n",
    "scipy.io.savemat(get_mat_path() / name, new_parameters)\n",
    "print(\"Done\")"
   ]
  }
 ],
 "metadata": {
  "kernelspec": {
   "display_name": "Ring-Resonator",
   "language": "python",
   "name": "python3"
  },
  "language_info": {
   "codemirror_mode": {
    "name": "ipython",
    "version": 3
   },
   "file_extension": ".py",
   "mimetype": "text/x-python",
   "name": "python",
   "nbconvert_exporter": "python",
   "pygments_lexer": "ipython3",
   "version": "3.10.11"
  },
  "orig_nbformat": 4
 },
 "nbformat": 4,
 "nbformat_minor": 2
}
